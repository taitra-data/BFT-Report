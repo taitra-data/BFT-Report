{
 "cells": [
  {
   "cell_type": "markdown",
   "metadata": {},
   "source": [
    "### 利用計算好的CSV數據與資料庫搜索，產生\"貿易局季報Q1、Q2、Q3\"所需數據源 EXCEL檔案。"
   ]
  },
  {
   "cell_type": "code",
   "execution_count": 1,
   "metadata": {},
   "outputs": [],
   "source": [
    "from stats_fcn import *\n",
    "import datetime"
   ]
  },
  {
   "cell_type": "code",
   "execution_count": 2,
   "metadata": {},
   "outputs": [],
   "source": [
    "today = f\"{datetime.datetime.today():%Y-%m-%d}\"\n",
    "Import_CSV_file = 'export_file/bureau_{}.csv'.format(today)  # 讀取的CSV檔名\n",
    "Export_Excel_file = 'export_file/bureau_quarterly_excel_{}.xlsx'.format(today)  # 輸出的Excel檔名"
   ]
  },
  {
   "cell_type": "code",
   "execution_count": 3,
   "metadata": {},
   "outputs": [],
   "source": [
    "def main():\n",
    "\n",
    "    df = pd.read_csv(Import_CSV_file)\n",
    "\n",
    "    ## 1. 計算特定年度之前，台灣3年內出口總額(p1)(百萬美元)\n",
    "    ## 計算特定年度，特定月份區間，所有國家出口差額(p3上側文字)(千美元)\n",
    "    p1 = cal_total_export(YEAR)\n",
    "    p3 = cal_total_country_diff(YEAR, END_MM)\n",
    "\n",
    "    # 2. 計算特定年度，特定月份區間，所有產業出口差額，給出產業排行(p4右側)(萬美元)\n",
    "    # 計算特定年度，特定月份區間，各國出口額(p4上側)(萬美元)\n",
    "    # 計算特定年度，特定月份區間，特定國家(7國)出口差額(p4下側)(萬美元)\n",
    "\n",
    "    p4_right = cal_industry_diff(df, YEAR, START_MM, END_MM)\n",
    "    p4_up = cal_total_country(YEAR, END_MM)\n",
    "    p4_down = cal_total_eight_diff(df, YEAR, START_MM, END_MM)\n",
    "\n",
    "    ## 3. 計算特定年度，特定月份區間，ICT產業各國出口差額，給出各國排行(p5右側)\n",
    "    ## 計算特定年度，特定月份區間，ICT產業特定國家(7國)出口差額(p5下側)\n",
    "    ## 計算特定年度，特定月份區間，ICT產業所有國家出口額(p5上側)\n",
    "\n",
    "    p5_right = cal_itc_country_diff(df, YEAR, START_MM, END_MM)\n",
    "    p5_down = cal_itc_eight_diff(df, YEAR, START_MM, END_MM)\n",
    "    p5_up = cal_itc_country(df, YEAR, START_MM, END_MM)\n",
    "\n",
    "    ## 4. 計算特定年度，特定月份區間，ICT產業出口總額&同比年增率，給出產業排行(p6-7)\n",
    "    p6_p7 = cal_ict_indus_diff(df, YEAR, START_MM, END_MM)\n",
    "\n",
    "    ## 5. 計算特定年度，特定月份區間，非ICT產業各國出口差額，給出各國排行(p8右側)\n",
    "    ## 計算特定年度，特定月份區間，非ict產業特定國家(7國)出口差額(p8下側)\n",
    "    ## 計算特定年度，特定月份區間，非ict產業所有國家出口額(p8上側)\n",
    "\n",
    "    p8_right = cal_nonitc_country_diff(df, YEAR, START_MM, END_MM)\n",
    "    p8_down = cal_nonitc_eight_diff(df, YEAR, START_MM, END_MM)\n",
    "    p8_up = cal_nonitc_country(df, YEAR, START_MM, END_MM)\n",
    "\n",
    "    ## 6.  計算特定年度，特定月份區間，非ICT產業出口總額&同比年增率，給出產業排行(p9-12)\n",
    "    p9_p12 = cal_nonict_indus_diff(df, YEAR, START_MM, END_MM)\n",
    "\n",
    "\n",
    "    # 7. 輸出所有df資料成為一Excel檔(Q1-Q3)\n",
    "\n",
    "    lst_export = [p1, p3, p4_down, p4_up, p4_right, p5_right, p5_down, p5_up,\n",
    "                  p6_p7, p8_right, p8_down, p8_up, p9_p12]\n",
    "    lst_sheetname = ['(P1)台灣出口總額原始資料(百萬美元)', '(P3)文字數據(千美元)', '(P4左下)7國出口增減額(萬美元)',\n",
    "                     '(P4上圖)出口至各國貿易額map(萬美元)', '(P4右側)產業出口成長衰退前五',\n",
    "                     '(P5右側)ICT出口成長衰退國前五(萬美元)', '(P5左下)ICT7國貿易差額(萬美元)',\n",
    "                     '(P5上側)ICT出口額map(萬美元)', '(P6-7)ICT產業出口(萬美元)',\n",
    "                     '(P8右側)非ICT出口成長衰退國前五(萬美元)', '(P8左下)非ICT7國貿易差額(萬美元)',\n",
    "                     '(P8上側)非ICT出口額map(萬美元)', '(p9-12)非ICT產業出口(萬美元)']\n",
    "    export_to_excel(lst_export, lst_sheetname, Export_Excel_file)"
   ]
  },
  {
   "cell_type": "markdown",
   "metadata": {},
   "source": [
    "#### 選取報告所需年度(可編輯)"
   ]
  },
  {
   "cell_type": "code",
   "execution_count": 4,
   "metadata": {},
   "outputs": [],
   "source": [
    "YEAR = 2022  # 輸入選取報告所需年度\n",
    "START_MM = 1  # 數據起始月份\n",
    "END_MM = 9  # 數據結束月份"
   ]
  },
  {
   "cell_type": "code",
   "execution_count": 5,
   "metadata": {},
   "outputs": [
    {
     "name": "stdout",
     "output_type": "stream",
     "text": [
      "計算特定年度之前，台灣3年內出口總額(百萬美元)\n",
      "\n",
      "Successfully extract 42 rows of data from DB\n",
      "計算特定年度，特定月份區間，所有國家出口差額(千美元)\n",
      "\n",
      "Successfully extract 456 rows of data from DB\n",
      "計算特定年度，特定月份區間，所有產業出口差額，給出產業排行(萬美元)\n",
      "\n",
      "計算特定年度，特定月份區間，各國出口額(萬美元)\n",
      "\n",
      "Successfully extract 227 rows of data from DB\n",
      "計算特定年度，特定月份區間，特定國家(7國)出口差額(萬美元)\n",
      "\n",
      "Successfully extract 21 rows of data from DB\n",
      "計算特定年度，特定月份區間，ICT產業各國出口差額，給出各國排行(萬美元)\n",
      "\n",
      "計算特定年度，特定月份區間，ict產業特定國家(7國)出口差額(萬美元)\n",
      "\n",
      "計算特定年度，特定月份區間，ict產業所有國家出口額(萬美元)\n",
      "\n",
      "計算特定年度，特定月份區間，ICT產業出口總額&同比年增率，給出產業排行(萬美元)\n",
      "\n",
      "計算特定年度，特定月份區間，非ICT產業各國出口差額，給出各國排行(萬美元)\n",
      "\n",
      "計算特定年度，特定月份區間，非ict產業特定國家(7國)出口差額(萬美元)\n",
      "\n",
      "計算特定年度，特定月份區間，非ict產業所有國家出口額(萬美元)\n",
      "\n",
      "計算特定年度，特定月份區間，非ICT產業出口總額&同比年增率，給出產業排行(萬美元)\n",
      "\n",
      "Successfully export data to Excel file:  export_file/bureau_quarterly_excel_2022-07-11.xlsx\n"
     ]
    }
   ],
   "source": [
    "main() # 運行主程序"
   ]
  },
  {
   "cell_type": "code",
   "execution_count": null,
   "metadata": {},
   "outputs": [],
   "source": []
  }
 ],
 "metadata": {
  "kernelspec": {
   "display_name": "Python 3 (ipykernel)",
   "language": "python",
   "name": "python3"
  },
  "language_info": {
   "codemirror_mode": {
    "name": "ipython",
    "version": 3
   },
   "file_extension": ".py",
   "mimetype": "text/x-python",
   "name": "python",
   "nbconvert_exporter": "python",
   "pygments_lexer": "ipython3",
   "version": "3.9.12"
  }
 },
 "nbformat": 4,
 "nbformat_minor": 4
}
