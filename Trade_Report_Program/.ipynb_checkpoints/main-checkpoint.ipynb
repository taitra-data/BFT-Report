{
 "cells": [
  {
   "cell_type": "markdown",
   "metadata": {},
   "source": [
    "### 利用iTrade分析資料庫搜索，產生\"貿易局季報\"所需的數據源CSV檔案。"
   ]
  },
  {
   "cell_type": "code",
   "execution_count": 1,
   "metadata": {},
   "outputs": [],
   "source": [
    "from basic_report_cal import *\n",
    "from db_connect import *\n",
    "import datetime"
   ]
  },
  {
   "cell_type": "code",
   "execution_count": 2,
   "metadata": {},
   "outputs": [],
   "source": [
    "def main():\n",
    "    cnxn = create_connection()  # create a database connection\n",
    "\n",
    "    if cnxn is not None:\n",
    "        # 1. 計算出口原始資料出現的所有11碼HSCODE(非重複)。\n",
    "        dict_unique_hs11 = extract_unique_hscode(cnxn, YEAR)\n",
    "\n",
    "        # 2. 引用 TSV 產業對照表資訊，儲存資訊至 dictionary。\n",
    "        dict_indus = get_indus_hscode(INDUSTRY_TABLE)\n",
    "\n",
    "        # 3. 利用產業HSCode對照表的HS碼(2-10碼)，創建產業HSCode對照表的HS碼(11碼)為dictionary\n",
    "        dict_indus_hs11 = create_indus_hs11(dict_indus, dict_unique_hs11)\n",
    "\n",
    "        # 4.連接資料庫，利用11碼資訊查詢各產業貿易額，儲存為pandas dataframe。\n",
    "        # 並輸出為CSV檔案: \"export_file/bureau_XXXX-XX-XX.csv\"。\n",
    "\n",
    "        today = f\"{datetime.datetime.today():%Y-%m-%d}\"\n",
    "        export_fname = 'export_file/bureau_{}.csv'.format(today)  # 輸出的CSV檔名\n",
    "        export_all_bureau_csv(cnxn, YEAR, dict_indus_hs11, export_fname)\n",
    "        cnxn.close()\n",
    "\n",
    "    else:\n",
    "        print(\"Error! cannot create the database connection.\")"
   ]
  },
  {
   "cell_type": "markdown",
   "metadata": {},
   "source": [
    "#### 選取報告所需年度[可編輯]"
   ]
  },
  {
   "cell_type": "code",
   "execution_count": 3,
   "metadata": {},
   "outputs": [],
   "source": [
    "report_year = 2022  # 輸入選取報告所需年度\n",
    "INDUSTRY_TABLE = 'import_file/Industry_hscode_20220826.tsv'  # 貿易局產業HS對照表資訊(須定期更新)。"
   ]
  },
  {
   "cell_type": "code",
   "execution_count": 4,
   "metadata": {},
   "outputs": [
    {
     "name": "stdout",
     "output_type": "stream",
     "text": [
      "Successfully extract 9255 rows of data from DB\n",
      "Successfully extract unique HS11 from DB export data.\n",
      "Successfully extract industrial HS2-HS10 from a TSV file\n",
      "Successfully extract industrial info of HS11 from current data\n",
      "\n",
      "Start to get all industrial export data from DB\n",
      "Successfully extract 4354 rows of data from DB\n",
      "自動資料處理機及其附屬單元 ICT產業 (4354, 7)\n",
      "Successfully extract 2279 rows of data from DB\n",
      "手提電腦 ICT產業 (2279, 7)\n",
      "Successfully extract 4068 rows of data from DB\n",
      "電腦之零附件 ICT產業 (4068, 7)\n",
      "Successfully extract 1301 rows of data from DB\n",
      "手機 ICT產業 (1301, 7)\n",
      "Successfully extract 4145 rows of data from DB\n",
      "交換器及路由器 ICT產業 (4145, 7)\n",
      "Successfully extract 3070 rows of data from DB\n",
      "手機及電話之零件 ICT產業 (3070, 7)\n",
      "Successfully extract 4226 rows of data from DB\n",
      "儲存媒體 ICT產業 (4226, 7)\n",
      "Successfully extract 3483 rows of data from DB\n",
      "電子零組件減積體電路 ICT產業 (3483, 7)\n",
      "Successfully extract 2399 rows of data from DB\n",
      "電容器及電阻器 ICT產業 (2399, 7)\n",
      "Successfully extract 2636 rows of data from DB\n",
      "印刷電路 ICT產業 (2636, 7)\n",
      "Successfully extract 2263 rows of data from DB\n",
      "二極體(含LED) ICT產業 (2263, 7)\n",
      "Successfully extract 886 rows of data from DB\n",
      "太陽電池 ICT產業 (886, 7)\n",
      "Successfully extract 3070 rows of data from DB\n",
      "積體電路 ICT產業 (3070, 7)\n",
      "Successfully extract 1867 rows of data from DB\n",
      "DRAM ICT產業 (1867, 7)\n",
      "Successfully extract 685 rows of data from DB\n",
      "偏光板 ICT產業 (685, 7)\n",
      "Successfully extract 1546 rows of data from DB\n",
      "鏡頭 ICT產業 (1546, 7)\n",
      "Successfully extract 1783 rows of data from DB\n",
      "液晶裝置 ICT產業 (1783, 7)\n",
      "Successfully extract 969 rows of data from DB\n",
      "液晶裝置之零件 ICT產業 (969, 7)\n",
      "Successfully extract 3418 rows of data from DB\n",
      "食品機械 所有產品 (3418, 7)\n",
      "Successfully extract 3838 rows of data from DB\n",
      "工具機暨零組件 所有產品 (3838, 7)\n",
      "Successfully extract 4895 rows of data from DB\n",
      "手工具 所有產品 (4895, 7)\n",
      "Successfully extract 4309 rows of data from DB\n",
      "扣件 所有產品 (4309, 7)\n",
      "Successfully extract 2249 rows of data from DB\n",
      "不織布 所有產品 (2249, 7)\n",
      "Successfully extract 3575 rows of data from DB\n",
      "自行車 所有產品 (3575, 7)\n",
      "Successfully extract 5244 rows of data from DB\n",
      "汽配 所有產品 (5244, 7)\n",
      "Successfully extract 1784 rows of data from DB\n",
      "機車 所有產品 (1784, 7)\n",
      "Successfully extract 1194 rows of data from DB\n",
      "航太 所有產品 (1194, 7)\n",
      "Successfully extract 392 rows of data from DB\n",
      "遊艇 所有產品 (392, 7)\n",
      "Successfully extract 3986 rows of data from DB\n",
      "運動用品 所有產品 (3986, 7)\n",
      "Successfully extract 5108 rows of data from DB\n",
      "醫療器材 所有產品 (5108, 7)\n",
      "Successfully extract 4075 rows of data from DB\n",
      "安控 所有產品 (4075, 7)\n",
      "Successfully extract 3721 rows of data from DB\n",
      "照明 所有產品 (3721, 7)\n",
      "Successfully extract 4948 rows of data from DB\n",
      "石化 所有產品 (4948, 7)\n",
      "Successfully extract 1860 rows of data from DB\n",
      "漁網 所有產品 (1860, 7)\n",
      "Successfully extract 2283 rows of data from DB\n",
      "水產 所有產品 (2283, 7)\n",
      "Successfully extract 1511 rows of data from DB\n",
      "蘭花 所有產品 (1511, 7)\n",
      "Successfully extract 2947 rows of data from DB\n",
      "玩具 所有產品 (2947, 7)\n",
      "Successfully extract 597 rows of data from DB\n",
      "合板 所有產品 (597, 7)\n",
      "Successfully extract 4778 rows of data from DB\n",
      "食品 所有產品 (4778, 7)\n",
      "Successfully extract 2910 rows of data from DB\n",
      "美妝 所有產品 (2910, 7)\n",
      "Successfully extract 3722 rows of data from DB\n",
      "水五金 所有產品 (3722, 7)\n",
      "Successfully extract 5801 rows of data from DB\n",
      "機械 所有產品 (5801, 7)\n",
      "Successfully extract 2632 rows of data from DB\n",
      "防疫產品 所有產品 (2632, 7)\n",
      "Successfully extract 1111 rows of data from DB\n",
      "隱形眼鏡 所有產品 (1111, 7)\n",
      "Successfully extract 2604 rows of data from DB\n",
      "血糖監控 所有產品 (2604, 7)\n",
      "Successfully extract 1905 rows of data from DB\n",
      "行動輔具 所有產品 (1905, 7)\n",
      "Successfully extract 5666 rows of data from DB\n",
      "ICT產業 所有產品 (5666, 7)\n",
      "Successfully extract 6783 rows of data from DB\n",
      "非ICT產業 所有產品 (6783, 7)\n",
      "--------------------\n",
      "Total data size:  (144876, 7)\n",
      "Successfully export csv file:  export_file/bureau_2022-07-11.csv\n"
     ]
    }
   ],
   "source": [
    "YEAR = str(int(report_year) - 2)  # 資料須包含當年與過去2年內歷史資料\n",
    "main() # 運行主程序"
   ]
  },
  {
   "cell_type": "code",
   "execution_count": null,
   "metadata": {},
   "outputs": [],
   "source": []
  }
 ],
 "metadata": {
  "kernelspec": {
   "display_name": "Python 3 (ipykernel)",
   "language": "python",
   "name": "python3"
  },
  "language_info": {
   "codemirror_mode": {
    "name": "ipython",
    "version": 3
   },
   "file_extension": ".py",
   "mimetype": "text/x-python",
   "name": "python",
   "nbconvert_exporter": "python",
   "pygments_lexer": "ipython3",
   "version": "3.9.12"
  }
 },
 "nbformat": 4,
 "nbformat_minor": 4
}
