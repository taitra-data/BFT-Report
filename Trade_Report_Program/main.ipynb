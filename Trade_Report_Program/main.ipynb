{
 "cells": [
  {
   "cell_type": "markdown",
   "metadata": {},
   "source": [
    "### 利用iTrade分析資料庫搜索，產生\"貿易局季報\"所需的數據源CSV檔案。"
   ]
  },
  {
   "cell_type": "code",
   "execution_count": 17,
   "metadata": {},
   "outputs": [],
   "source": [
    "from basic_report_cal import *\n",
    "from db_connect import *\n",
    "import datetime"
   ]
  },
  {
   "cell_type": "code",
   "execution_count": 18,
   "metadata": {},
   "outputs": [],
   "source": [
    "def main():\n",
    "    cnxn = create_connection()  # create a database connection\n",
    "\n",
    "    if cnxn is not None:\n",
    "        # 1. 計算出口原始資料出現的所有11碼HSCODE(非重複)。\n",
    "        dict_unique_hs11 = extract_unique_hscode(cnxn, YEAR)\n",
    "\n",
    "        # 2. 引用 TSV 產業對照表資訊，儲存資訊至 dictionary。\n",
    "        dict_indus = get_indus_hscode(INDUSTRY_TABLE)\n",
    "\n",
    "        # 3. 利用產業HSCode對照表的HS碼(2-10碼)，創建產業HSCode對照表的HS碼(11碼)為dictionary\n",
    "        dict_indus_hs11 = create_indus_hs11(dict_indus, dict_unique_hs11)\n",
    "\n",
    "        # 4.連接資料庫，利用11碼資訊查詢各產業貿易額，儲存為pandas dataframe。\n",
    "        # 並輸出為CSV檔案: \"export_file/bureau_XXXX-XX-XX.csv\"。\n",
    "\n",
    "        today = f\"{datetime.datetime.today():%Y-%m-%d}\"\n",
    "        export_fname = 'export_file/bureau_{}.csv'.format(today)  # 輸出的CSV檔名\n",
    "        export_all_bureau_csv(cnxn, YEAR, dict_indus_hs11, export_fname)\n",
    "        cnxn.close()\n",
    "\n",
    "    else:\n",
    "        print(\"Error! cannot create the database connection.\")"
   ]
  },
  {
   "cell_type": "markdown",
   "metadata": {},
   "source": [
    "#### 選取報告所需年度[可編輯]"
   ]
  },
  {
   "cell_type": "code",
   "execution_count": 19,
   "metadata": {},
   "outputs": [],
   "source": [
    "report_year = 2022  # 輸入選取報告所需年度\n",
    "INDUSTRY_TABLE = 'import_file/Industry_hscode_20220826.tsv'  # 貿易局產業HS對照表資訊(須定期更新)。"
   ]
  },
  {
   "cell_type": "code",
   "execution_count": 20,
   "metadata": {},
   "outputs": [
    {
     "name": "stdout",
     "output_type": "stream",
     "text": [
      "Successfully extract 9303 rows of data from DB\n",
      "Successfully extract unique HS11 from DB export data.\n",
      "Successfully extract industrial HS2-HS10 from a TSV file\n",
      "Successfully extract industrial info of HS11 from current data\n",
      "\n",
      "Start to get all industrial export data from DB\n",
      "Successfully extract 4813 rows of data from DB\n",
      "自動資料處理機及其附屬單元 ICT產業 (4813, 7)\n",
      "Successfully extract 2552 rows of data from DB\n",
      "手提電腦 ICT產業 (2552, 7)\n",
      "Successfully extract 4504 rows of data from DB\n",
      "電腦之零附件 ICT產業 (4504, 7)\n",
      "Successfully extract 1435 rows of data from DB\n",
      "手機 ICT產業 (1435, 7)\n",
      "Successfully extract 4609 rows of data from DB\n",
      "交換器及路由器 ICT產業 (4609, 7)\n",
      "Successfully extract 3422 rows of data from DB\n",
      "手機及電話之零件 ICT產業 (3422, 7)\n",
      "Successfully extract 4663 rows of data from DB\n",
      "儲存媒體 ICT產業 (4663, 7)\n",
      "Successfully extract 3855 rows of data from DB\n",
      "電子零組件減積體電路 ICT產業 (3855, 7)\n",
      "Successfully extract 2665 rows of data from DB\n",
      "電容器及電阻器 ICT產業 (2665, 7)\n",
      "Successfully extract 2906 rows of data from DB\n",
      "印刷電路 ICT產業 (2906, 7)\n",
      "Successfully extract 2511 rows of data from DB\n",
      "二極體(含LED) ICT產業 (2511, 7)\n",
      "Successfully extract 1177 rows of data from DB\n",
      "太陽能電池及模組 ICT產業 (1177, 7)\n",
      "Successfully extract 3371 rows of data from DB\n",
      "積體電路 ICT產業 (3371, 7)\n",
      "Successfully extract 2063 rows of data from DB\n",
      "DRAM ICT產業 (2063, 7)\n",
      "Successfully extract 771 rows of data from DB\n",
      "偏光板 ICT產業 (771, 7)\n",
      "Successfully extract 1699 rows of data from DB\n",
      "鏡頭 ICT產業 (1699, 7)\n",
      "Successfully extract 1953 rows of data from DB\n",
      "液晶裝置 ICT產業 (1953, 7)\n",
      "Successfully extract 1071 rows of data from DB\n",
      "液晶裝置之零件 ICT產業 (1071, 7)\n",
      "Successfully extract 3818 rows of data from DB\n",
      "食品機械 所有產品 (3818, 7)\n",
      "Successfully extract 4256 rows of data from DB\n",
      "工具機暨零組件 所有產品 (4256, 7)\n",
      "Successfully extract 5412 rows of data from DB\n",
      "手工具 所有產品 (5412, 7)\n",
      "Successfully extract 4777 rows of data from DB\n",
      "扣件 所有產品 (4777, 7)\n",
      "Successfully extract 2489 rows of data from DB\n",
      "不織布 所有產品 (2489, 7)\n",
      "Successfully extract 3944 rows of data from DB\n",
      "自行車 所有產品 (3944, 7)\n",
      "Successfully extract 5788 rows of data from DB\n",
      "汽配 所有產品 (5788, 7)\n",
      "Successfully extract 1967 rows of data from DB\n",
      "機車 所有產品 (1967, 7)\n",
      "Successfully extract 1348 rows of data from DB\n",
      "航太 所有產品 (1348, 7)\n",
      "Successfully extract 432 rows of data from DB\n",
      "遊艇 所有產品 (432, 7)\n",
      "Successfully extract 4434 rows of data from DB\n",
      "運動用品 所有產品 (4434, 7)\n",
      "Successfully extract 5644 rows of data from DB\n",
      "醫療器材 所有產品 (5644, 7)\n",
      "Successfully extract 4510 rows of data from DB\n",
      "安控 所有產品 (4510, 7)\n",
      "Successfully extract 4145 rows of data from DB\n",
      "照明 所有產品 (4145, 7)\n",
      "Successfully extract 5475 rows of data from DB\n",
      "石化 所有產品 (5475, 7)\n",
      "Successfully extract 2076 rows of data from DB\n",
      "漁網 所有產品 (2076, 7)\n",
      "Successfully extract 2536 rows of data from DB\n",
      "水產 所有產品 (2536, 7)\n",
      "Successfully extract 1671 rows of data from DB\n",
      "蘭花 所有產品 (1671, 7)\n",
      "Successfully extract 3278 rows of data from DB\n",
      "玩具 所有產品 (3278, 7)\n",
      "Successfully extract 670 rows of data from DB\n",
      "合板 所有產品 (670, 7)\n",
      "Successfully extract 5290 rows of data from DB\n",
      "食品 所有產品 (5290, 7)\n",
      "Successfully extract 3234 rows of data from DB\n",
      "美妝 所有產品 (3234, 7)\n",
      "Successfully extract 4115 rows of data from DB\n",
      "水五金 所有產品 (4115, 7)\n",
      "Successfully extract 6417 rows of data from DB\n",
      "機械 所有產品 (6417, 7)\n",
      "Successfully extract 2865 rows of data from DB\n",
      "防疫產品 所有產品 (2865, 7)\n",
      "Successfully extract 1224 rows of data from DB\n",
      "隱形眼鏡 所有產品 (1224, 7)\n",
      "Successfully extract 3503 rows of data from DB\n",
      "血糖監控(含糖尿病試紙) 所有產品 (3503, 7)\n",
      "Successfully extract 2098 rows of data from DB\n",
      "行動輔具 所有產品 (2098, 7)\n",
      "Successfully extract 6251 rows of data from DB\n",
      "ICT產業 所有產品 (6251, 7)\n",
      "Successfully extract 7467 rows of data from DB\n",
      "非ICT產業 所有產品 (7467, 7)\n",
      "--------------------\n",
      "Total data size:  (161174, 7)\n",
      "Successfully export csv file:  export_file/bureau_2022-10-18.csv\n"
     ]
    }
   ],
   "source": [
    "YEAR = str(int(report_year) - 2)  # 資料須包含當年與過去2年內歷史資料\n",
    "main() # 運行主程序"
   ]
  },
  {
   "cell_type": "code",
   "execution_count": null,
   "metadata": {},
   "outputs": [],
   "source": []
  }
 ],
 "metadata": {
  "kernelspec": {
   "display_name": "Python 3 (ipykernel)",
   "language": "python",
   "name": "python3"
  },
  "language_info": {
   "codemirror_mode": {
    "name": "ipython",
    "version": 3
   },
   "file_extension": ".py",
   "mimetype": "text/x-python",
   "name": "python",
   "nbconvert_exporter": "python",
   "pygments_lexer": "ipython3",
   "version": "3.9.12"
  }
 },
 "nbformat": 4,
 "nbformat_minor": 4
}
